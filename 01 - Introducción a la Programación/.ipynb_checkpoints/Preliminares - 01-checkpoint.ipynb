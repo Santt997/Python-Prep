{
  "cells": [
    {
      "cell_type": "markdown",
      "metadata": {
        "id": "FssT2DvHsQXB"
      },
      "source": [
        "## Variables"
      ]
    },
    {
      "cell_type": "code",
      "execution_count": 1,
      "metadata": {
        "id": "v8ixE3dZsQXG",
        "outputId": "442b1df6-b8df-4674-e090-47d6327b0583",
        "colab": {
          "base_uri": "https://localhost:8080/"
        }
      },
      "outputs": [
        {
          "output_type": "stream",
          "name": "stdout",
          "text": [
            "Hola Mundo !\n"
          ]
        }
      ],
      "source": [
        "a = 'Hola '\n",
        "b = 'Mundo !'\n",
        "print(a + b)"
      ]
    },
    {
      "cell_type": "code",
      "execution_count": 2,
      "metadata": {
        "id": "WujhuOHGsQXS",
        "outputId": "7f9ee8b8-f1c2-4692-ab01-93af90f757e2",
        "colab": {
          "base_uri": "https://localhost:8080/"
        }
      },
      "outputs": [
        {
          "output_type": "stream",
          "name": "stdout",
          "text": [
            "15\n"
          ]
        }
      ],
      "source": [
        "x = 3\n",
        "y = 12\n",
        "print(x + y)"
      ]
    },
    {
      "cell_type": "code",
      "source": [
        "from google.colab import drive\n",
        "drive.mount('/content/drive')"
      ],
      "metadata": {
        "id": "lPM8v_oNIfJl"
      },
      "execution_count": null,
      "outputs": []
    },
    {
      "cell_type": "code",
      "execution_count": null,
      "metadata": {
        "id": "OZC8V6Y3sQXW",
        "outputId": "d8099b2d-524a-406c-d858-7098d2f50c3b"
      },
      "outputs": [
        {
          "ename": "TypeError",
          "evalue": "can only concatenate str (not \"int\") to str",
          "output_type": "error",
          "traceback": [
            "\u001b[1;31m---------------------------------------------------------------------------\u001b[0m",
            "\u001b[1;31mTypeError\u001b[0m                                 Traceback (most recent call last)",
            "\u001b[1;32m~\\AppData\\Local\\Temp/ipykernel_18232/136165486.py\u001b[0m in \u001b[0;36m<module>\u001b[1;34m\u001b[0m\n\u001b[1;32m----> 1\u001b[1;33m \u001b[0mprint\u001b[0m\u001b[1;33m(\u001b[0m\u001b[0ma\u001b[0m \u001b[1;33m+\u001b[0m \u001b[0mx\u001b[0m\u001b[1;33m)\u001b[0m\u001b[1;33m\u001b[0m\u001b[1;33m\u001b[0m\u001b[0m\n\u001b[0m",
            "\u001b[1;31mTypeError\u001b[0m: can only concatenate str (not \"int\") to str"
          ]
        }
      ],
      "source": [
        "print(a + x)"
      ]
    },
    {
      "cell_type": "code",
      "execution_count": null,
      "metadata": {
        "id": "TT9Rq9cysQXZ",
        "outputId": "f57b4ed4-dd55-427b-a1c8-5b7891f7ebe4"
      },
      "outputs": [
        {
          "name": "stdout",
          "output_type": "stream",
          "text": [
            "3.0\n"
          ]
        }
      ],
      "source": [
        "# Dividir \"y\" entre \"x\"\n",
        "y = 9\n",
        "x = 3\n",
        "print(y/x)"
      ]
    },
    {
      "cell_type": "code",
      "execution_count": null,
      "metadata": {
        "id": "CHgfChaOsQXg",
        "outputId": "c333fc51-34c9-4d1c-e036-111674c28e38"
      },
      "outputs": [
        {
          "name": "stdout",
          "output_type": "stream",
          "text": [
            "16\n"
          ]
        }
      ],
      "source": [
        "# Potencia de \"y\" elevado a la \"x\"\n",
        "y = 2\n",
        "x = 4\n",
        "print(y**x)"
      ]
    },
    {
      "cell_type": "code",
      "execution_count": null,
      "metadata": {
        "id": "gPcglvezsQXp",
        "outputId": "e6f2ad89-4166-4395-a07c-def156f5a6ef"
      },
      "outputs": [
        {
          "name": "stdout",
          "output_type": "stream",
          "text": [
            "1\n"
          ]
        }
      ],
      "source": [
        "# Devolver el resto de la división\n",
        "y = 13\n",
        "x = 3\n",
        "print(y%x)"
      ]
    },
    {
      "cell_type": "code",
      "execution_count": null,
      "metadata": {
        "id": "UxRG7ruWsQXu",
        "outputId": "6f62f1e2-cba8-4781-b761-8f44d85e2bcc"
      },
      "outputs": [
        {
          "name": "stdout",
          "output_type": "stream",
          "text": [
            "El número es igual a cero\n"
          ]
        }
      ],
      "source": [
        "valor = 0\n",
        "if (valor < 0):\n",
        "    print('El número es negativo')\n",
        "elif (valor > 0):\n",
        "    print('El número es positivo')\n",
        "else:\n",
        "    print('El número es igual a cero')"
      ]
    },
    {
      "cell_type": "code",
      "execution_count": null,
      "metadata": {
        "id": "eY8vTjSXsQX1",
        "outputId": "e7e475f5-403a-420b-d163-dc51d01aaab7"
      },
      "outputs": [
        {
          "name": "stdout",
          "output_type": "stream",
          "text": [
            "1\n",
            "2\n",
            "3\n",
            "4\n",
            "5\n",
            "6\n",
            "7\n",
            "8\n",
            "9\n"
          ]
        }
      ],
      "source": [
        "for n in range(1,10):\n",
        "    print(n)"
      ]
    },
    {
      "cell_type": "code",
      "execution_count": null,
      "metadata": {
        "id": "1QTDX-5ysQX5",
        "outputId": "72b210c9-91ce-4ea3-d0e1-c7ca108ca2cd"
      },
      "outputs": [
        {
          "name": "stdout",
          "output_type": "stream",
          "text": [
            "1\n",
            "2\n",
            "3\n",
            "4\n",
            "5\n",
            "6\n",
            "7\n",
            "8\n",
            "9\n"
          ]
        }
      ],
      "source": [
        "n = 1\n",
        "while (n < 10):\n",
        "    print(n)\n",
        "    n = n + 1"
      ]
    },
    {
      "cell_type": "code",
      "execution_count": null,
      "metadata": {
        "id": "F8WGLDvGsQX8",
        "outputId": "308dfcbe-f536-4161-cbb0-b7dc609a68ed"
      },
      "outputs": [
        {
          "name": "stdout",
          "output_type": "stream",
          "text": [
            "5\n"
          ]
        }
      ],
      "source": [
        "edad = (3,1,0.2,8,7)\n",
        "print(len(edad))"
      ]
    },
    {
      "cell_type": "markdown",
      "metadata": {
        "id": "ystNt7_XsQYE"
      },
      "source": [
        "Listas"
      ]
    },
    {
      "cell_type": "code",
      "execution_count": null,
      "metadata": {
        "id": "AnhuT5P2sQYH"
      },
      "outputs": [],
      "source": [
        "mi_lista = ['Rojo','Azul','Amarillo','Naranja','Violeta','Verde']"
      ]
    },
    {
      "cell_type": "code",
      "execution_count": null,
      "metadata": {
        "id": "EEhO_BonsQYJ",
        "outputId": "fb46a4fc-41dd-4bb0-e5fb-747e7843b69d"
      },
      "outputs": [
        {
          "data": {
            "text/plain": [
              "list"
            ]
          },
          "execution_count": 39,
          "metadata": {},
          "output_type": "execute_result"
        }
      ],
      "source": [
        "type(mi_lista)"
      ]
    },
    {
      "cell_type": "code",
      "execution_count": null,
      "metadata": {
        "id": "-pv0POghsQYM",
        "outputId": "a369875b-9f0a-4180-eeb9-d14de5e8e1df"
      },
      "outputs": [
        {
          "name": "stdout",
          "output_type": "stream",
          "text": [
            "['Rojo', 'Azul', 'Amarillo', 'Negro', 'Naranja', 'Violeta', 'Verde']\n"
          ]
        }
      ],
      "source": [
        "print(mi_lista)"
      ]
    },
    {
      "cell_type": "code",
      "execution_count": null,
      "metadata": {
        "id": "ooWuyTLjsQYN",
        "outputId": "7c564c31-8022-4f6d-9ba4-f40f8c12aa00"
      },
      "outputs": [
        {
          "name": "stdout",
          "output_type": "stream",
          "text": [
            "['Rojo', 'Azul']\n"
          ]
        }
      ],
      "source": [
        "print(mi_lista[0:2])"
      ]
    },
    {
      "cell_type": "code",
      "execution_count": null,
      "metadata": {
        "id": "GqyWzcr1sQYQ",
        "outputId": "479edd4e-8e5d-4c0a-ffec-bd82b4370040"
      },
      "outputs": [
        {
          "name": "stdout",
          "output_type": "stream",
          "text": [
            "['Rojo', 'Azul']\n"
          ]
        }
      ],
      "source": [
        "print(mi_lista[:2])"
      ]
    },
    {
      "cell_type": "code",
      "execution_count": null,
      "metadata": {
        "id": "3_ywcG2JsQYT",
        "outputId": "4872d052-e455-455a-ac62-600046786c8b"
      },
      "outputs": [
        {
          "name": "stdout",
          "output_type": "stream",
          "text": [
            "['Azul', 'Amarillo']\n"
          ]
        }
      ],
      "source": [
        "print(mi_lista[1:])"
      ]
    },
    {
      "cell_type": "code",
      "execution_count": null,
      "metadata": {
        "id": "s6Wf9XbWsQYW"
      },
      "outputs": [],
      "source": [
        "mi_lista.insert(3,'Negro')"
      ]
    },
    {
      "cell_type": "code",
      "execution_count": null,
      "metadata": {
        "id": "7eKhHcj1sQYX",
        "outputId": "5c42b072-4f07-4fcd-9a4c-95631ce4fe88"
      },
      "outputs": [
        {
          "name": "stdout",
          "output_type": "stream",
          "text": [
            "1\n"
          ]
        }
      ],
      "source": [
        "print(mi_lista.index('Azul'))"
      ]
    },
    {
      "cell_type": "code",
      "execution_count": null,
      "metadata": {
        "id": "dXl_EqPTsQYa"
      },
      "outputs": [],
      "source": [
        "mi_lista.insert(3,'Negro')"
      ]
    },
    {
      "cell_type": "code",
      "execution_count": null,
      "metadata": {
        "id": "dxkNwQbdsQYb"
      },
      "outputs": [],
      "source": [
        "mi_lista.extend(['Marrón','Gris'])"
      ]
    },
    {
      "cell_type": "code",
      "execution_count": null,
      "metadata": {
        "id": "boMW1bw9sQYe",
        "outputId": "df092c42-353b-48b4-f790-8a552176171c"
      },
      "outputs": [
        {
          "name": "stdout",
          "output_type": "stream",
          "text": [
            "['a', 'b', 'c', 'a', 'b', 'c', 'a', 'b', 'c']\n"
          ]
        }
      ],
      "source": [
        "print(['a','b','c'] * 3)"
      ]
    },
    {
      "cell_type": "code",
      "execution_count": null,
      "metadata": {
        "id": "wuX7oCjDsQYh",
        "outputId": "5ed23e50-d67b-4f88-d070-aef019412910"
      },
      "outputs": [
        {
          "name": "stdout",
          "output_type": "stream",
          "text": [
            "1\n"
          ]
        }
      ],
      "source": [
        "print(mi_lista.index('Azul'))"
      ]
    },
    {
      "cell_type": "code",
      "execution_count": null,
      "metadata": {
        "id": "WhspxIopsQYj",
        "outputId": "5d6aee9d-d7a3-4087-95bc-f7ec6ddbc3a3"
      },
      "outputs": [
        {
          "ename": "ValueError",
          "evalue": "list.remove(x): x not in list",
          "output_type": "error",
          "traceback": [
            "\u001b[1;31m---------------------------------------------------------------------------\u001b[0m",
            "\u001b[1;31mValueError\u001b[0m                                Traceback (most recent call last)",
            "\u001b[1;32m~\\AppData\\Local\\Temp/ipykernel_10044/2480624766.py\u001b[0m in \u001b[0;36m<module>\u001b[1;34m\u001b[0m\n\u001b[1;32m----> 1\u001b[1;33m \u001b[0mmi_lista\u001b[0m\u001b[1;33m.\u001b[0m\u001b[0mremove\u001b[0m\u001b[1;33m(\u001b[0m\u001b[1;34m'Blanco'\u001b[0m\u001b[1;33m)\u001b[0m\u001b[1;33m\u001b[0m\u001b[1;33m\u001b[0m\u001b[0m\n\u001b[0m",
            "\u001b[1;31mValueError\u001b[0m: list.remove(x): x not in list"
          ]
        }
      ],
      "source": [
        "mi_lista.remove('Blanco')"
      ]
    },
    {
      "cell_type": "code",
      "execution_count": null,
      "metadata": {
        "id": "qVSDTriSsQYl",
        "outputId": "5a949a5b-213d-4d03-aec8-79bdfc98c5a2"
      },
      "outputs": [
        {
          "ename": "ValueError",
          "evalue": "list.remove(x): x not in list",
          "output_type": "error",
          "traceback": [
            "\u001b[1;31m---------------------------------------------------------------------------\u001b[0m",
            "\u001b[1;31mValueError\u001b[0m                                Traceback (most recent call last)",
            "\u001b[1;32m~\\AppData\\Local\\Temp/ipykernel_10044/298389232.py\u001b[0m in \u001b[0;36m<module>\u001b[1;34m\u001b[0m\n\u001b[1;32m----> 1\u001b[1;33m \u001b[0mmi_lista\u001b[0m\u001b[1;33m.\u001b[0m\u001b[0mremove\u001b[0m\u001b[1;33m(\u001b[0m\u001b[1;34m'Negro'\u001b[0m\u001b[1;33m)\u001b[0m\u001b[1;33m\u001b[0m\u001b[1;33m\u001b[0m\u001b[0m\n\u001b[0m",
            "\u001b[1;31mValueError\u001b[0m: list.remove(x): x not in list"
          ]
        }
      ],
      "source": [
        "mi_lista.remove('Negro')"
      ]
    },
    {
      "cell_type": "code",
      "execution_count": null,
      "metadata": {
        "id": "JyrgqK-ysQYn"
      },
      "outputs": [],
      "source": [
        "ultimo = mi_lista.pop()"
      ]
    },
    {
      "cell_type": "code",
      "execution_count": null,
      "metadata": {
        "id": "fRV8ibH-sQYo",
        "outputId": "0606aa7a-c55a-427f-b5eb-e7b587b5bcda"
      },
      "outputs": [
        {
          "name": "stdout",
          "output_type": "stream",
          "text": [
            "Gris\n"
          ]
        }
      ],
      "source": [
        "ultimo = mi_lista.pop()\n",
        "print(ultimo)"
      ]
    },
    {
      "cell_type": "code",
      "execution_count": null,
      "metadata": {
        "id": "kxG_cRTCsQYq"
      },
      "outputs": [],
      "source": [
        "ultimo = mi_lista.pop()"
      ]
    },
    {
      "cell_type": "code",
      "execution_count": null,
      "metadata": {
        "id": "sYYQubspsQYr",
        "outputId": "62c0ed37-e3d6-4208-f571-c0bf325ad1ae"
      },
      "outputs": [
        {
          "data": {
            "text/plain": [
              "'Amarillo'"
            ]
          },
          "execution_count": 35,
          "metadata": {},
          "output_type": "execute_result"
        }
      ],
      "source": [
        "ultimo"
      ]
    },
    {
      "cell_type": "code",
      "execution_count": null,
      "metadata": {
        "id": "AFKxOX3YsQYt"
      },
      "outputs": [],
      "source": [
        "mi_tupla=tuple(mi_lista)"
      ]
    },
    {
      "cell_type": "code",
      "execution_count": null,
      "metadata": {
        "id": "oQvJcf0rsQYu",
        "outputId": "507c3554-4ce7-4dcb-9d93-c12aea292d6f"
      },
      "outputs": [
        {
          "name": "stdout",
          "output_type": "stream",
          "text": [
            "Azul\n"
          ]
        }
      ],
      "source": [
        "print(mi_tupla[1])"
      ]
    },
    {
      "cell_type": "code",
      "execution_count": null,
      "metadata": {
        "id": "dm3uLaJjsQYw",
        "outputId": "01e83b92-e317-433b-8339-1477293deaf6"
      },
      "outputs": [
        {
          "data": {
            "text/plain": [
              "True"
            ]
          },
          "execution_count": 74,
          "metadata": {},
          "output_type": "execute_result"
        }
      ],
      "source": [
        "'Rojo' in mi_tupla"
      ]
    },
    {
      "cell_type": "code",
      "execution_count": null,
      "metadata": {
        "id": "neVfHDCRsQYz",
        "outputId": "fe0aa31a-d107-4228-bad2-dd4a0f43632b"
      },
      "outputs": [
        {
          "data": {
            "text/plain": [
              "1"
            ]
          },
          "execution_count": 75,
          "metadata": {},
          "output_type": "execute_result"
        }
      ],
      "source": [
        " mi_tupla.count('Rojo')"
      ]
    },
    {
      "cell_type": "code",
      "execution_count": null,
      "metadata": {
        "id": "yynQVPqNsQY1",
        "outputId": "8db54203-539f-4184-87f5-1ead2439a10b"
      },
      "outputs": [
        {
          "name": "stdout",
          "output_type": "stream",
          "text": [
            "['Rojo', 'Azul', 'Amarillo', 'Negro', 'Marrón', 'Gris', 'Rojo', 'Azul', 'Amarillo', 'Negro', 'Marrón', 'Gris', 'Rojo', 'Azul', 'Amarillo', 'Negro', 'Marrón', 'Gris']\n"
          ]
        }
      ],
      "source": [
        "print(mi_lista[:] * 3)"
      ]
    },
    {
      "cell_type": "code",
      "execution_count": null,
      "metadata": {
        "id": "fvRGQXISsQY3",
        "outputId": "18732bb7-8828-46fa-8fbd-b8ebaac9c4ac"
      },
      "outputs": [
        {
          "data": {
            "text/plain": [
              "1"
            ]
          },
          "execution_count": 55,
          "metadata": {},
          "output_type": "execute_result"
        }
      ],
      "source": [
        "mi_tupla.count('Rojo')"
      ]
    },
    {
      "cell_type": "code",
      "execution_count": null,
      "metadata": {
        "id": "upRiHP5WsQY4"
      },
      "outputs": [],
      "source": [
        "mi_tupla='Gaspar', 5, 8, 1999"
      ]
    },
    {
      "cell_type": "code",
      "execution_count": null,
      "metadata": {
        "id": "INTbBTUQsQY6",
        "outputId": "55e8eca2-d225-44fb-c1d2-99bc0742e0dd"
      },
      "outputs": [
        {
          "name": "stdout",
          "output_type": "stream",
          "text": [
            "Nombre:  Gaspar  - Dia: 5  - Mes:  8  - Año:  1999\n"
          ]
        }
      ],
      "source": [
        "nombre, dia, mes, año = mi_tupla\n",
        "print(\"Nombre: \", nombre, \" - Dia:\", dia, \" - Mes: \", mes, \" - Año: \", año)"
      ]
    },
    {
      "cell_type": "code",
      "execution_count": null,
      "metadata": {
        "id": "-oZPwehGsQY7",
        "outputId": "0fa73eb0-c58a-4a34-f78d-97782ac11049"
      },
      "outputs": [
        {
          "name": "stdout",
          "output_type": "stream",
          "text": [
            "Darío 39\n",
            "Mi nombre es Darío . Mi edad es 39 años\n",
            "Mi nombre es Darío. Mi edad es 39 años\n"
          ]
        }
      ],
      "source": [
        "nombre = 'Darío'\n",
        "edad = 39\n",
        "print(nombre, edad)\n",
        "print(\"Mi nombre es\", nombre, \". Mi edad es\", edad, \"años\")\n",
        "print(\"Mi nombre es {}. Mi edad es {} años\". format(nombre, edad))"
      ]
    },
    {
      "cell_type": "code",
      "execution_count": null,
      "metadata": {
        "id": "fG2OkE86sQY8"
      },
      "outputs": [],
      "source": [
        "mi_diccionario = {  'Colores Primarios': ['Rojo','Azul','Amarillo'], \n",
        "                    'Colores secundarios': ['Naranja','Violeta','Verde'], \n",
        "                    'Clave3': 10,\n",
        "                    'Clave4': False}"
      ]
    },
    {
      "cell_type": "code",
      "execution_count": null,
      "metadata": {
        "id": "gZHI6WzOsQY9",
        "outputId": "15a04207-7f40-414c-8cbf-00f883aa97eb"
      },
      "outputs": [
        {
          "name": "stdout",
          "output_type": "stream",
          "text": [
            "['Naranja', 'Violeta', 'Verde']\n"
          ]
        }
      ],
      "source": [
        "print(mi_diccionario['Colores secundarios'])"
      ]
    },
    {
      "cell_type": "code",
      "execution_count": null,
      "metadata": {
        "id": "0Fo066zZsQY-"
      },
      "outputs": [],
      "source": [
        "mi_diccionario={'Clave1':'Valor1', 'Clave2':{'numeros':[1,2,3,4,5]}}"
      ]
    },
    {
      "cell_type": "code",
      "execution_count": null,
      "metadata": {
        "id": "1-iSpjSFsQY_",
        "outputId": "1a646df6-f813-430f-e90e-0f3e4f4b7710"
      },
      "outputs": [
        {
          "name": "stdout",
          "output_type": "stream",
          "text": [
            "dict_keys(['Clave1', 'Clave2'])\n"
          ]
        }
      ],
      "source": [
        "print(mi_diccionario.keys())"
      ]
    },
    {
      "cell_type": "code",
      "execution_count": null,
      "metadata": {
        "id": "_rDhryZ7sQZA",
        "outputId": "013b2d31-d1c9-4880-9bbd-0e1b2ad03bf3"
      },
      "outputs": [
        {
          "name": "stdout",
          "output_type": "stream",
          "text": [
            "dict_values(['Valor1', {'numeros': [1, 2, 3, 4, 5]}])\n"
          ]
        }
      ],
      "source": [
        "print(mi_diccionario.values())"
      ]
    },
    {
      "cell_type": "code",
      "execution_count": null,
      "metadata": {
        "id": "kdvGwFjRsQZC",
        "outputId": "990d78e4-2ecb-4e05-837b-ce267d5dbfcb"
      },
      "outputs": [
        {
          "data": {
            "text/plain": [
              "2"
            ]
          },
          "execution_count": 85,
          "metadata": {},
          "output_type": "execute_result"
        }
      ],
      "source": [
        "len(mi_diccionario)"
      ]
    },
    {
      "cell_type": "code",
      "execution_count": null,
      "metadata": {
        "id": "D_63KcQZsQZD",
        "outputId": "2bf99dae-993c-4e0d-815a-1e69307b3040"
      },
      "outputs": [
        {
          "name": "stdout",
          "output_type": "stream",
          "text": [
            "50\n"
          ]
        }
      ],
      "source": [
        "edad = 60\n",
        "edad_compa = 50\n",
        "if (edad < edad_compa):\n",
        "    print(edad)\n",
        "    if (edad < 100):\n",
        "        print(edad + 100)\n",
        "    else:\n",
        "        print(edad - 100)\n",
        "else:\n",
        "    print(edad_compa)"
      ]
    },
    {
      "cell_type": "code",
      "execution_count": null,
      "metadata": {
        "id": "j5TK7l8ssQZE",
        "outputId": "8ae28844-f93e-432d-e9b9-406fe2b6f654"
      },
      "outputs": [
        {
          "name": "stdout",
          "output_type": "stream",
          "text": [
            "[0, 1, 2, 3, 4, 5, 6, 7, 8, 9]\n"
          ]
        }
      ],
      "source": [
        "primeros_10 = [0,1,2,3,4,5,6,7,8,9]\n",
        "print(primeros_10)"
      ]
    },
    {
      "cell_type": "code",
      "execution_count": null,
      "metadata": {
        "id": "jILXkHP4sQZF",
        "outputId": "9411d859-6131-40c9-dbdf-e0caba1360fa"
      },
      "outputs": [
        {
          "name": "stdout",
          "output_type": "stream",
          "text": [
            "0\n",
            "2\n",
            "4\n",
            "6\n",
            "8\n",
            "\n",
            "va de nuevo....\n",
            "\n"
          ]
        }
      ],
      "source": [
        "for n in primeros_10:\n",
        "    if (n%2 == 0):\n",
        "        print(n)\n",
        "        primeros_10[n]=0\n",
        "print(\"\\nva de nuevo....\\n\")"
      ]
    },
    {
      "cell_type": "code",
      "execution_count": null,
      "metadata": {
        "id": "hY66NEgTsQZH",
        "outputId": "df537f0d-a2a8-46b4-d3d2-7154edff6058"
      },
      "outputs": [
        {
          "name": "stdout",
          "output_type": "stream",
          "text": [
            "[0, 1, 0, 3, 0, 5, 0, 7, 0, 9]\n"
          ]
        }
      ],
      "source": [
        "print(primeros_10)"
      ]
    },
    {
      "cell_type": "code",
      "execution_count": null,
      "metadata": {
        "id": "XMshBh6AsQZI",
        "outputId": "47c80720-b53a-450e-8427-efdbb0e0393b"
      },
      "outputs": [
        {
          "name": "stdout",
          "output_type": "stream",
          "text": [
            "0\n",
            "1\n",
            "0\n",
            "3\n",
            "0\n",
            "5\n",
            "0\n",
            "7\n",
            "0\n",
            "9\n",
            "\n",
            "va de nuevo....\n",
            "\n"
          ]
        }
      ],
      "source": [
        "for n in primeros_10:\n",
        "    print(primeros_10[n])\n",
        "print(\"\\nva de nuevo....\\n\")"
      ]
    },
    {
      "cell_type": "code",
      "execution_count": null,
      "metadata": {
        "id": "vgI-zCIXsQZL",
        "outputId": "00b85159-6eec-437b-d2f6-12e3a08912d8"
      },
      "outputs": [
        {
          "name": "stdout",
          "output_type": "stream",
          "text": [
            "9\n"
          ]
        }
      ],
      "source": [
        "print(primeros_10[9])"
      ]
    },
    {
      "cell_type": "code",
      "execution_count": null,
      "metadata": {
        "id": "i_faPvQosQZL"
      },
      "outputs": [],
      "source": [
        "primeros_10 = ['a','b','c','d']"
      ]
    },
    {
      "cell_type": "code",
      "execution_count": null,
      "metadata": {
        "id": "PCzhR1v3sQZM",
        "outputId": "0606f21d-b1fb-41ad-8a4a-968f7615d94d"
      },
      "outputs": [
        {
          "ename": "IndexError",
          "evalue": "list index out of range",
          "output_type": "error",
          "traceback": [
            "\u001b[1;31m---------------------------------------------------------------------------\u001b[0m",
            "\u001b[1;31mIndexError\u001b[0m                                Traceback (most recent call last)",
            "\u001b[1;32m<ipython-input-21-1f7c241d828c>\u001b[0m in \u001b[0;36m<module>\u001b[1;34m\u001b[0m\n\u001b[1;32m----> 1\u001b[1;33m \u001b[0mprimeros_10\u001b[0m\u001b[1;33m[\u001b[0m\u001b[1;36m4\u001b[0m\u001b[1;33m]\u001b[0m\u001b[1;33m\u001b[0m\u001b[1;33m\u001b[0m\u001b[0m\n\u001b[0m",
            "\u001b[1;31mIndexError\u001b[0m: list index out of range"
          ]
        }
      ],
      "source": [
        "primeros_10[4]"
      ]
    },
    {
      "cell_type": "code",
      "execution_count": null,
      "metadata": {
        "id": "h9TG4jFosQZO"
      },
      "outputs": [],
      "source": [
        "n = 40\n",
        "sequence = [0,1]"
      ]
    },
    {
      "cell_type": "code",
      "execution_count": null,
      "metadata": {
        "id": "ZThBQCNEsQZP",
        "outputId": "d03b22f9-d3b1-48b8-c103-83907e822dbc"
      },
      "outputs": [
        {
          "name": "stdout",
          "output_type": "stream",
          "text": [
            "[0, 1, 1, 2, 3, 5, 8, 13, 21, 34, 55, 89, 144, 233, 377, 610, 987, 1597, 2584, 4181, 6765, 10946, 17711, 28657, 46368, 75025, 121393, 196418, 317811, 514229, 832040, 1346269, 2178309, 3524578, 5702887, 9227465, 14930352, 24157817, 39088169, 63245986]\n"
          ]
        }
      ],
      "source": [
        "for i in range(2,n):\n",
        "    sequence.append(sequence[i-1]+sequence[i-2])\n",
        "print (sequence)"
      ]
    },
    {
      "cell_type": "code",
      "execution_count": null,
      "metadata": {
        "id": "STbvZvb1sQZR"
      },
      "outputs": [],
      "source": [
        "mi_diccionario = {  'Colores Primarios': ['Rojo','Azul','Amarillo'], \n",
        "                        'Colores secundarios': ['Naranja','Violeta','Verde'], \n",
        "                        'Clave3': 10,\n",
        "                        'Clave4': False}"
      ]
    },
    {
      "cell_type": "code",
      "execution_count": null,
      "metadata": {
        "id": "Bsefo4ObsQZR",
        "outputId": "257e914e-0f88-4d08-d4ba-6690a62b794a"
      },
      "outputs": [
        {
          "name": "stdout",
          "output_type": "stream",
          "text": [
            "['Naranja', 'Violeta', 'Verde']\n"
          ]
        }
      ],
      "source": [
        "print(mi_diccionario['Colores secundarios'])"
      ]
    },
    {
      "cell_type": "code",
      "execution_count": null,
      "metadata": {
        "id": "MnDPC1fisQZT"
      },
      "outputs": [],
      "source": [
        "mi_diccionario['Clave3']=2"
      ]
    },
    {
      "cell_type": "code",
      "execution_count": null,
      "metadata": {
        "id": "d_Z6wbcasQZU",
        "outputId": "c7685a03-cccd-4a03-b3e0-767fcc41b924"
      },
      "outputs": [
        {
          "data": {
            "text/plain": [
              "{'Argentina': 'Buenos Aires', 'Italia': 'Roma', 'Inglaterra': 'Londres'}"
            ]
          },
          "execution_count": 69,
          "metadata": {},
          "output_type": "execute_result"
        }
      ],
      "source": [
        "mi_diccionario"
      ]
    },
    {
      "cell_type": "code",
      "execution_count": null,
      "metadata": {
        "id": "wbbB9czasQZV"
      },
      "outputs": [],
      "source": [
        "mi_diccionario['Clave5']='Otro ejemplo'"
      ]
    },
    {
      "cell_type": "code",
      "execution_count": null,
      "metadata": {
        "id": "R1xxEoTjsQZW"
      },
      "outputs": [],
      "source": [
        "mi_tupla=(\"Argentina\", \"Italia\", \"Inglaterra\")\n",
        "mi_diccionario={mi_tupla[0]:\"Buenos Aires\", mi_tupla[1]:\"Roma\", mi_tupla[2]:\"Londres\"}"
      ]
    },
    {
      "cell_type": "code",
      "execution_count": null,
      "metadata": {
        "id": "rgWJ8ooBsQZW"
      },
      "outputs": [],
      "source": [
        "mi_diccionario={'Clave1':'Valor1', 'Clave2':(1,2,3,4,5)}"
      ]
    },
    {
      "cell_type": "code",
      "execution_count": null,
      "metadata": {
        "id": "vkeWW33qsQZY",
        "outputId": "04f27581-d8dd-488e-a656-9ec4ffa833ed"
      },
      "outputs": [
        {
          "data": {
            "text/plain": [
              "tuple"
            ]
          },
          "execution_count": 73,
          "metadata": {},
          "output_type": "execute_result"
        }
      ],
      "source": [
        "type(mi_diccionario['Clave2'])"
      ]
    },
    {
      "cell_type": "code",
      "execution_count": null,
      "metadata": {
        "id": "x_lRfVmgsQZZ"
      },
      "outputs": [],
      "source": [
        "mi_diccionario={'Clave1':'Valor1', 'Clave2':{'numeros':[1,2,3,4,5]}}"
      ]
    },
    {
      "cell_type": "code",
      "execution_count": null,
      "metadata": {
        "id": "2C9iTj01sQZa",
        "outputId": "50c00b4f-3587-4ef6-de36-202fafed0ba4"
      },
      "outputs": [
        {
          "data": {
            "text/plain": [
              "dict"
            ]
          },
          "execution_count": 75,
          "metadata": {},
          "output_type": "execute_result"
        }
      ],
      "source": [
        "type(mi_diccionario['Clave2'])"
      ]
    },
    {
      "cell_type": "code",
      "execution_count": null,
      "metadata": {
        "id": "fIsvmCJgsQZb"
      },
      "outputs": [],
      "source": [
        "mi_diccionario={'Clave1':'Valor1', 'Clave2':[1,2,3,4,5]}"
      ]
    },
    {
      "cell_type": "code",
      "execution_count": null,
      "metadata": {
        "id": "MZArbISHsQZc",
        "outputId": "55c58173-dff4-4af4-ca08-fa26bcae7877"
      },
      "outputs": [
        {
          "data": {
            "text/plain": [
              "list"
            ]
          },
          "execution_count": 77,
          "metadata": {},
          "output_type": "execute_result"
        }
      ],
      "source": [
        "type(mi_diccionario['Clave2'])"
      ]
    },
    {
      "cell_type": "code",
      "execution_count": null,
      "metadata": {
        "id": "QBwy5jncsQZd",
        "outputId": "f8661ac3-ff18-47b7-c7a2-f00358acc2a5"
      },
      "outputs": [
        {
          "name": "stdout",
          "output_type": "stream",
          "text": [
            "dict_keys(['Clave1', 'Clave2'])\n"
          ]
        }
      ],
      "source": [
        "print(mi_diccionario.keys())"
      ]
    },
    {
      "cell_type": "code",
      "execution_count": null,
      "metadata": {
        "id": "6Cq2pwlNsQZf",
        "outputId": "6dfa5521-76dc-44ab-e99a-f75e2d822adb"
      },
      "outputs": [
        {
          "name": "stdout",
          "output_type": "stream",
          "text": [
            "dict_values(['Valor1', [1, 2, 3, 4, 5]])\n"
          ]
        }
      ],
      "source": [
        "print(mi_diccionario.values())"
      ]
    },
    {
      "cell_type": "code",
      "execution_count": null,
      "metadata": {
        "id": "hvsGIQGXsQZg",
        "outputId": "9bbd35ea-8689-436d-a58a-efea4f031cbf"
      },
      "outputs": [
        {
          "data": {
            "text/plain": [
              "3"
            ]
          },
          "execution_count": 82,
          "metadata": {},
          "output_type": "execute_result"
        }
      ],
      "source": [
        "len(mi_tupla)"
      ]
    },
    {
      "cell_type": "code",
      "execution_count": null,
      "metadata": {
        "id": "uFksO8IOsQZh"
      },
      "outputs": [],
      "source": [
        "def imprimir_valor_variable(var):\n",
        "    print('El valor de la variable es' + str(var))"
      ]
    },
    {
      "cell_type": "code",
      "execution_count": null,
      "metadata": {
        "id": "WHaRSItzsQZi",
        "outputId": "da6f7671-aa88-44e3-968e-06b264853864"
      },
      "outputs": [
        {
          "name": "stdout",
          "output_type": "stream",
          "text": [
            "El valor de la variable es['Rojo', 'Azul', 'Amarillo', 'Negro', 'Marrón', 'Gris']\n"
          ]
        }
      ],
      "source": [
        "imprimir_valor_variable(mi_lista)"
      ]
    },
    {
      "cell_type": "code",
      "execution_count": null,
      "metadata": {
        "id": "XlmWdZ8psQZk"
      },
      "outputs": [],
      "source": [
        "def ordenar_dos_numeros(num1, num2):\n",
        "        if (num1 > num2):\n",
        "            return num2, num1\n",
        "        else:\n",
        "            return num1, num2"
      ]
    },
    {
      "cell_type": "code",
      "execution_count": null,
      "metadata": {
        "id": "RVHV-YrhsQZl",
        "outputId": "96811613-6ea7-4d39-87ea-e440e47607df"
      },
      "outputs": [
        {
          "data": {
            "text/plain": [
              "(1, 8)"
            ]
          },
          "execution_count": 4,
          "metadata": {},
          "output_type": "execute_result"
        }
      ],
      "source": [
        "ordenar_dos_numeros(8,1)"
      ]
    },
    {
      "cell_type": "code",
      "execution_count": null,
      "metadata": {
        "id": "IjmCQ4hssQZm"
      },
      "outputs": [],
      "source": [
        "def factorial(numero):\n",
        "    '''\n",
        "    Devuelve el factorial\n",
        "    '''\n",
        "    if (numero > 1):\n",
        "        numero = numero * factorial(numero - 1)\n",
        "    return numero"
      ]
    },
    {
      "cell_type": "code",
      "execution_count": null,
      "metadata": {
        "id": "vqfEvdtYsQZn",
        "outputId": "06a2cf9a-748b-42bb-ea33-d494d2c02ce9"
      },
      "outputs": [
        {
          "data": {
            "text/plain": [
              "6"
            ]
          },
          "execution_count": 11,
          "metadata": {},
          "output_type": "execute_result"
        }
      ],
      "source": [
        "factorial(3)"
      ]
    },
    {
      "cell_type": "code",
      "execution_count": null,
      "metadata": {
        "id": "gQ949YMesQZp",
        "outputId": "b3f6bbfe-3e1c-4e5a-8d00-9b052c8f7224"
      },
      "outputs": [
        {
          "name": "stdout",
          "output_type": "stream",
          "text": [
            "Help on function factorial in module __main__:\n",
            "\n",
            "factorial(numero)\n",
            "    Devuelve el factorial\n",
            "\n"
          ]
        }
      ],
      "source": [
        "help(factorial)"
      ]
    },
    {
      "cell_type": "code",
      "execution_count": null,
      "metadata": {
        "id": "85r4WVLBsQZp"
      },
      "outputs": [],
      "source": [
        "def dividir(dividendo, divisor = 1):\n",
        "    if (divisor == 0):\n",
        "        return 'No se puede dividir por cero'\n",
        "    else:\n",
        "        return dividendo / divisor"
      ]
    },
    {
      "cell_type": "code",
      "execution_count": null,
      "metadata": {
        "id": "WkkhKzWmsQZq",
        "outputId": "3ff9eda4-2200-4236-d5ec-f5c462ea656c"
      },
      "outputs": [
        {
          "name": "stdout",
          "output_type": "stream",
          "text": [
            "10.0\n"
          ]
        }
      ],
      "source": [
        "print(dividir(10))"
      ]
    },
    {
      "cell_type": "code",
      "execution_count": null,
      "metadata": {
        "id": "_SfJXdFXsQZr",
        "outputId": "a34a83fb-80cd-4a68-ebf7-3d3b326b2a66"
      },
      "outputs": [
        {
          "ename": "NameError",
          "evalue": "name 'divisor' is not defined",
          "output_type": "error",
          "traceback": [
            "\u001b[1;31m---------------------------------------------------------------------------\u001b[0m",
            "\u001b[1;31mNameError\u001b[0m                                 Traceback (most recent call last)",
            "\u001b[1;32m~\\AppData\\Local\\Temp/ipykernel_10044/1862935505.py\u001b[0m in \u001b[0;36m<module>\u001b[1;34m\u001b[0m\n\u001b[1;32m----> 1\u001b[1;33m \u001b[0mprint\u001b[0m\u001b[1;33m(\u001b[0m\u001b[0mdivisor\u001b[0m\u001b[1;33m)\u001b[0m\u001b[1;33m\u001b[0m\u001b[1;33m\u001b[0m\u001b[0m\n\u001b[0m",
            "\u001b[1;31mNameError\u001b[0m: name 'divisor' is not defined"
          ]
        }
      ],
      "source": [
        "print(divisor)"
      ]
    },
    {
      "cell_type": "code",
      "execution_count": null,
      "metadata": {
        "id": "cmq0VYU6sQZs"
      },
      "outputs": [],
      "source": [
        "divisor = 5\n",
        "def dividir(dividendo):\n",
        "    if (divisor == 0):\n",
        "        return 'No se puede dividir por cero'\n",
        "    else:\n",
        "        return dividendo / divisor"
      ]
    },
    {
      "cell_type": "code",
      "execution_count": null,
      "metadata": {
        "id": "9tSY-hl8sQZt",
        "outputId": "50a699cc-95d2-49ab-80a3-60390a255f59"
      },
      "outputs": [
        {
          "name": "stdout",
          "output_type": "stream",
          "text": [
            "2.0\n"
          ]
        }
      ],
      "source": [
        "print(dividir(10))"
      ]
    },
    {
      "cell_type": "code",
      "execution_count": null,
      "metadata": {
        "id": "4iVlHON-sQZv",
        "outputId": "f5a04664-33f2-4d5b-d87d-527a7b25183a"
      },
      "outputs": [
        {
          "name": "stdout",
          "output_type": "stream",
          "text": [
            "5\n"
          ]
        }
      ],
      "source": [
        "print(divisor)"
      ]
    },
    {
      "cell_type": "code",
      "execution_count": null,
      "metadata": {
        "id": "XF08A0wosQZw"
      },
      "outputs": [],
      "source": [
        "divisor = 5\n",
        "def dividir(dividendo, divisor = 1):\n",
        "    if (divisor == 0):\n",
        "        return 'No se puede dividir por cero'\n",
        "    else:\n",
        "        return dividendo / divisor"
      ]
    },
    {
      "cell_type": "code",
      "execution_count": null,
      "metadata": {
        "id": "I5w6LTIXsQZy",
        "outputId": "796d6ad8-b8c3-4978-ffff-8d62f86fd689"
      },
      "outputs": [
        {
          "name": "stdout",
          "output_type": "stream",
          "text": [
            "10.0\n"
          ]
        }
      ],
      "source": [
        "print(dividir(10))"
      ]
    },
    {
      "cell_type": "code",
      "execution_count": null,
      "metadata": {
        "id": "YBVje91esQZz",
        "outputId": "d8076ed6-d7b3-4842-b4c6-d995801d9058"
      },
      "outputs": [
        {
          "name": "stdout",
          "output_type": "stream",
          "text": [
            "5\n"
          ]
        }
      ],
      "source": [
        "print(divisor)"
      ]
    },
    {
      "cell_type": "code",
      "execution_count": null,
      "metadata": {
        "id": "-NcYFyZ3sQZ1",
        "outputId": "c201d971-6b04-4e28-c974-0156207e2386"
      },
      "outputs": [
        {
          "data": {
            "text/plain": [
              "12"
            ]
          },
          "execution_count": 23,
          "metadata": {},
          "output_type": "execute_result"
        }
      ],
      "source": [
        "lambda_producto = lambda x, y: x * y\n",
        "lambda_producto(3, 4)"
      ]
    },
    {
      "cell_type": "code",
      "execution_count": null,
      "metadata": {
        "id": "KMQDn6DzsQZ2"
      },
      "outputs": [],
      "source": [
        "class Animal:\n",
        "    '''\n",
        "    En esta clase se crean los animales\n",
        "    '''\n",
        "    def __init__(self, especie, edad, color):\n",
        "        self.especie = especie\n",
        "        self.edad = edad\n",
        "        self.color = color\n",
        "    def mePresento(self):\n",
        "        print('Hola, soy ', self.especie, ', de color', self.color, ' y tengo ', self.edad, ' años')\n",
        "    def cumplirAños(self):\n",
        "        self.edad = self.edad + 1"
      ]
    },
    {
      "cell_type": "code",
      "execution_count": null,
      "metadata": {
        "id": "6cMDVXtisQZ2",
        "outputId": "88a050fd-bb95-4cf4-bf5c-034f428cfd95"
      },
      "outputs": [
        {
          "name": "stdout",
          "output_type": "stream",
          "text": [
            "Ratón\n",
            "2\n",
            "Liebre\n",
            "3\n"
          ]
        }
      ],
      "source": [
        "a1 = Animal('Ratón', 2, 'Marrón')\n",
        "print(a1.especie)\n",
        "print(a1.edad)\n",
        "\n",
        "a2 = Animal('Liebre', 3, 'Gris')\n",
        "print(a2.especie)\n",
        "print(a2.edad)"
      ]
    },
    {
      "cell_type": "code",
      "execution_count": null,
      "metadata": {
        "id": "zAi7_JifsQZ4",
        "outputId": "ef59a9aa-fb69-4e51-b3df-fdad69b3fe71"
      },
      "outputs": [
        {
          "name": "stdout",
          "output_type": "stream",
          "text": [
            "Hola, soy  Ratón , de color Marrón  y tengo  2  años\n"
          ]
        }
      ],
      "source": [
        "a1.mePresento()"
      ]
    },
    {
      "cell_type": "code",
      "execution_count": null,
      "metadata": {
        "id": "3kk9onzgsQZ6",
        "outputId": "26951481-de90-49cf-b129-afa2c6f19620"
      },
      "outputs": [
        {
          "name": "stdout",
          "output_type": "stream",
          "text": [
            "Hola, soy  Liebre , de color Gris  y tengo  3  años\n"
          ]
        }
      ],
      "source": [
        "a2.mePresento()"
      ]
    },
    {
      "cell_type": "code",
      "execution_count": null,
      "metadata": {
        "id": "bbTC7POOsQZ7",
        "outputId": "8ebb2a5f-1949-40ba-b688-cd4cc8487fe4"
      },
      "outputs": [
        {
          "name": "stdout",
          "output_type": "stream",
          "text": [
            "Hola, soy  Ratón , de color Marrón  y tengo  3  años\n"
          ]
        }
      ],
      "source": [
        "a1.cumplirAños()\n",
        "a1.mePresento()"
      ]
    },
    {
      "cell_type": "code",
      "execution_count": null,
      "metadata": {
        "id": "H_qu50gNsQZ8"
      },
      "outputs": [],
      "source": [
        "# Caja Negra\n",
        "import unittest\n"
      ]
    },
    {
      "cell_type": "code",
      "execution_count": null,
      "metadata": {
        "id": "qj_XhDy_sQZ9"
      },
      "outputs": [],
      "source": [
        "\n",
        "def suma(num_1, num_2):\n",
        "    return num_1 + num_2"
      ]
    },
    {
      "cell_type": "code",
      "execution_count": null,
      "metadata": {
        "id": "w_KeDnJusQZ-"
      },
      "outputs": [],
      "source": [
        "\n",
        "class CajaNegraTest(unittest.TestCase):\n",
        "\n",
        "    def test_suma_dos_positivos(self):\n",
        "        num_1 = 10\n",
        "        num_2 = 5\n",
        "\n",
        "        resultado = suma(num_1, num_2)\n",
        "\n",
        "        self.assertEqual(resultado, 15)\n",
        "\n",
        "    def test_suma_dos_negativos(self):\n",
        "        num_1 = -10\n",
        "        num_2 = -7\n",
        "\n",
        "        resultado = suma(num_1, num_2)\n",
        "\n",
        "        self.assertEqual(resultado, -17)\n"
      ]
    },
    {
      "cell_type": "code",
      "execution_count": null,
      "metadata": {
        "id": "kcSBK8K_sQZ_",
        "outputId": "0c82f201-3f09-4201-d19b-5f6489bd2339"
      },
      "outputs": [
        {
          "name": "stderr",
          "output_type": "stream",
          "text": [
            "test_suma_dos_negativos (__main__.CajaNegraTest) ... ok\n",
            "test_suma_dos_positivos (__main__.CajaNegraTest) ... ok\n",
            "\n",
            "----------------------------------------------------------------------\n",
            "Ran 2 tests in 0.004s\n",
            "\n",
            "OK\n"
          ]
        },
        {
          "data": {
            "text/plain": [
              "<unittest.main.TestProgram at 0x2226bd08400>"
            ]
          },
          "execution_count": 47,
          "metadata": {},
          "output_type": "execute_result"
        }
      ],
      "source": [
        "unittest.main(argv=[''], verbosity=2, exit=False)"
      ]
    },
    {
      "cell_type": "code",
      "execution_count": null,
      "metadata": {
        "id": "AISFZsxvsQaA"
      },
      "outputs": [],
      "source": [
        "if __name__ == '__main__':\n",
        "    unittest.main()"
      ]
    },
    {
      "cell_type": "code",
      "execution_count": null,
      "metadata": {
        "id": "l8eLgaqusQaD",
        "outputId": "c2bc7e4e-c2ff-48e2-fc86-e63e40fe9bbf"
      },
      "outputs": [
        {
          "name": "stderr",
          "output_type": "stream",
          "text": [
            "test_suma_dos_negativos (__main__.CajaNegraTest) ... ok\n",
            "test_suma_dos_positivos (__main__.CajaNegraTest) ... ok\n",
            "test_es_mayor_de_edad (__main__.PruebaDeCristalTest) ... ok\n",
            "test_es_menor_de_edad (__main__.PruebaDeCristalTest) ... ok\n",
            "\n",
            "----------------------------------------------------------------------\n",
            "Ran 4 tests in 0.006s\n",
            "\n",
            "OK\n"
          ]
        },
        {
          "data": {
            "text/plain": [
              "<unittest.main.TestProgram at 0x2226bd153d0>"
            ]
          },
          "execution_count": 49,
          "metadata": {},
          "output_type": "execute_result"
        }
      ],
      "source": [
        "#Caja de Cristal\n",
        "import unittest\n",
        "\n",
        "def es_mayor_de_edad(edad):\n",
        "    if edad >= 18:\n",
        "        return True\n",
        "    else:\n",
        "        return False\n",
        "\n",
        "class PruebaDeCristalTest(unittest.TestCase):\n",
        "\n",
        "    def test_es_mayor_de_edad(self):\n",
        "        edad = 20\n",
        "\n",
        "        resultado = es_mayor_de_edad(edad)\n",
        "\n",
        "        self.assertEqual(resultado, True)\n",
        "\n",
        "    def test_es_menor_de_edad(self):\n",
        "        edad = 15\n",
        "\n",
        "        resultado = es_mayor_de_edad(edad)\n",
        "\n",
        "        self.assertEqual(resultado, False)\n",
        "\n",
        "unittest.main(argv=[''], verbosity=2, exit=False)"
      ]
    },
    {
      "cell_type": "code",
      "execution_count": null,
      "metadata": {
        "id": "en2wOAJBsQaH"
      },
      "outputs": [],
      "source": [
        "if __name__ == '__main__':\n",
        "    unittest.main()"
      ]
    },
    {
      "cell_type": "code",
      "execution_count": null,
      "metadata": {
        "id": "it0mCoxIsQaJ"
      },
      "outputs": [],
      "source": [
        "# Python\n",
        "\n",
        "def busca_pais(paises, pais):\n",
        "    '''\n",
        "    Paises es un diccionario. Pais es la llave.\n",
        "    Codigo con el principio EAFP.\n",
        "    '''    \n",
        "    try:\n",
        "        return paises[pais]\n",
        "    except KeyError:\n",
        "        return None"
      ]
    },
    {
      "cell_type": "code",
      "execution_count": null,
      "metadata": {
        "id": "Gv_1B7d3sQaL",
        "outputId": "4f37dcf4-f402-461f-ca87-d86604b9927a"
      },
      "outputs": [
        {
          "name": "stdout",
          "output_type": "stream",
          "text": [
            "division by zero\n",
            "[0, 1, 2, 3, 4, 5, 6, 7, 8, 9]\n"
          ]
        }
      ],
      "source": [
        "def divide_elementos_de_lista(lista, divisor):\n",
        "    '''\n",
        "    Cada elemento de una lista es dividida por un divisor definido.\n",
        "    En caso de error de tipo ZeroDivisionError que\n",
        "    significa error al dividir en cero\n",
        "    la función devuelve la lista inicial\n",
        "    '''\n",
        "    try:\n",
        "        return [i / divisor for i in lista]\n",
        "    \n",
        "    except ZeroDivisionError as e:\n",
        "        print(e)\n",
        "        return lista\n",
        "\n",
        "lista = list(range(10))\n",
        "divisor = 0\n",
        "\n",
        "print(divide_elementos_de_lista(lista, divisor))"
      ]
    },
    {
      "cell_type": "code",
      "execution_count": null,
      "metadata": {
        "id": "Qkz8yuBusQaM",
        "outputId": "7e69cc71-ead3-40c8-fe60-a6305f9ea6ff"
      },
      "outputs": [
        {
          "name": "stdout",
          "output_type": "stream",
          "text": [
            "[0.0, 0.3333333333333333, 0.6666666666666666, 1.0, 1.3333333333333333, 1.6666666666666667, 2.0, 2.3333333333333335, 2.6666666666666665, 3.0]\n"
          ]
        }
      ],
      "source": [
        "divisor = 3\n",
        "print(divide_elementos_de_lista(lista, divisor))"
      ]
    },
    {
      "cell_type": "code",
      "execution_count": null,
      "metadata": {
        "id": "E0rmn8m6sQaO",
        "outputId": "04158eea-df53-41f4-9601-55b1089b72f3"
      },
      "outputs": [
        {
          "name": "stdout",
          "output_type": "stream",
          "text": [
            "5\n",
            "4\n",
            "9\n",
            "2\n"
          ]
        }
      ],
      "source": [
        "lista = [5, 4, 9, 2]\n",
        "i = 0\n",
        "while i < len(lista):\n",
        "    elemento = lista[i]\n",
        "    print(elemento)\n",
        "    i += 1"
      ]
    },
    {
      "cell_type": "code",
      "execution_count": null,
      "metadata": {
        "id": "DjqJjKBZsQaP",
        "outputId": "c5367894-63bf-492f-d1a8-79dcfd47d1dd"
      },
      "outputs": [
        {
          "name": "stdout",
          "output_type": "stream",
          "text": [
            "5\n",
            "4\n",
            "9\n",
            "2\n"
          ]
        }
      ],
      "source": [
        "lista = [5, 4, 9, 2]\n",
        "for elemento in lista:\n",
        "    print(elemento)"
      ]
    },
    {
      "cell_type": "code",
      "execution_count": null,
      "metadata": {
        "id": "QiTsE2qSsQaQ",
        "outputId": "fec2dfaf-c143-49ab-bc99-117006b09744"
      },
      "outputs": [
        {
          "name": "stdout",
          "output_type": "stream",
          "text": [
            "cadena True\n",
            "numero False\n"
          ]
        },
        {
          "name": "stderr",
          "output_type": "stream",
          "text": [
            "C:\\Users\\lopez\\AppData\\Local\\Temp/ipykernel_10044/1562366592.py:1: DeprecationWarning: Using or importing the ABCs from 'collections' instead of from 'collections.abc' is deprecated since Python 3.3, and in 3.10 it will stop working\n",
            "  from collections import Iterable\n"
          ]
        }
      ],
      "source": [
        "from collections import Iterable\n",
        "cadena = \"Hola\"\n",
        "numero = 3\n",
        "print(\"cadena\", isinstance(cadena, Iterable))\n",
        "print(\"numero\", isinstance(numero, Iterable))"
      ]
    },
    {
      "cell_type": "code",
      "execution_count": null,
      "metadata": {
        "id": "LVJ_hjOZsQaR",
        "outputId": "98976f03-4c5d-405f-fef3-20c649b58f74"
      },
      "outputs": [
        {
          "name": "stdout",
          "output_type": "stream",
          "text": [
            "['H', 'o', 'l', 'a']\n"
          ]
        }
      ],
      "source": [
        "print(list(\"Hola\"))"
      ]
    },
    {
      "cell_type": "code",
      "execution_count": null,
      "metadata": {
        "id": "XGSIZdNssQaS",
        "outputId": "39ec15a9-ebef-4fff-b460-6326888814c3"
      },
      "outputs": [
        {
          "name": "stdout",
          "output_type": "stream",
          "text": [
            "6\n"
          ]
        }
      ],
      "source": [
        "print(sum([1, 2, 3]))"
      ]
    },
    {
      "cell_type": "code",
      "execution_count": null,
      "metadata": {
        "id": "zk59ezHpsQaU",
        "outputId": "60f873fe-6dc7-4385-9769-3d5e53604856"
      },
      "outputs": [
        {
          "name": "stdout",
          "output_type": "stream",
          "text": [
            "H-o-l-a\n"
          ]
        }
      ],
      "source": [
        "print(\"-\".join(\"Hola\"))"
      ]
    },
    {
      "cell_type": "code",
      "execution_count": null,
      "metadata": {
        "id": "-UJE_3u-sQaW",
        "outputId": "18071858-c8f3-4a08-8988-45b9b67907c6"
      },
      "outputs": [
        {
          "name": "stdout",
          "output_type": "stream",
          "text": [
            "a\n",
            "b\n",
            "c\n"
          ]
        }
      ],
      "source": [
        "mi_dict = {'a':1, 'b':2, 'c':3}\n",
        "for i in mi_dict:\n",
        "    print(i)"
      ]
    },
    {
      "cell_type": "code",
      "execution_count": null,
      "metadata": {
        "id": "VM5_rB5CsQaW"
      },
      "outputs": [],
      "source": [
        "libro = ['página1', 'página2', 'página3', 'página4']\n",
        "marcapaginas = iter(libro)"
      ]
    },
    {
      "cell_type": "code",
      "execution_count": null,
      "metadata": {
        "id": "eaGLH94YsQaX",
        "outputId": "6e857660-d5f3-4910-e628-4dc75bae4d00"
      },
      "outputs": [
        {
          "name": "stdout",
          "output_type": "stream",
          "text": [
            "página1\n",
            "página2\n",
            "página3\n",
            "página4\n"
          ]
        }
      ],
      "source": [
        "print(next(marcapaginas))\n",
        "print(next(marcapaginas))\n",
        "print(next(marcapaginas))\n",
        "print(next(marcapaginas))"
      ]
    },
    {
      "cell_type": "code",
      "execution_count": null,
      "metadata": {
        "id": "DaUj9qUxsQaZ",
        "outputId": "0da24f65-0a24-4871-a5f7-d80a117e02b9"
      },
      "outputs": [
        {
          "ename": "StopIteration",
          "evalue": "",
          "output_type": "error",
          "traceback": [
            "\u001b[1;31m---------------------------------------------------------------------------\u001b[0m",
            "\u001b[1;31mStopIteration\u001b[0m                             Traceback (most recent call last)",
            "\u001b[1;32m~\\AppData\\Local\\Temp/ipykernel_10044/1391636315.py\u001b[0m in \u001b[0;36m<module>\u001b[1;34m\u001b[0m\n\u001b[1;32m----> 1\u001b[1;33m \u001b[0mprint\u001b[0m\u001b[1;33m(\u001b[0m\u001b[0mnext\u001b[0m\u001b[1;33m(\u001b[0m\u001b[0mmarcapaginas\u001b[0m\u001b[1;33m)\u001b[0m\u001b[1;33m)\u001b[0m\u001b[1;33m\u001b[0m\u001b[1;33m\u001b[0m\u001b[0m\n\u001b[0m",
            "\u001b[1;31mStopIteration\u001b[0m: "
          ]
        }
      ],
      "source": [
        "print(next(marcapaginas))"
      ]
    },
    {
      "cell_type": "code",
      "execution_count": null,
      "metadata": {
        "id": "XEfcwzsZsQaa",
        "outputId": "9a4fb81b-a731-4b1a-89e8-cf7db456bef0"
      },
      "outputs": [
        {
          "data": {
            "text/plain": [
              "2"
            ]
          },
          "execution_count": 99,
          "metadata": {},
          "output_type": "execute_result"
        }
      ],
      "source": [
        "14 % 3"
      ]
    },
    {
      "cell_type": "code",
      "execution_count": null,
      "metadata": {
        "id": "YSq6y44vsQab",
        "outputId": "b6a00450-235c-4b5e-82e3-bff01071ddb0"
      },
      "outputs": [
        {
          "data": {
            "text/plain": [
              "4"
            ]
          },
          "execution_count": 97,
          "metadata": {},
          "output_type": "execute_result"
        }
      ],
      "source": [
        "14 // 3"
      ]
    },
    {
      "cell_type": "code",
      "execution_count": null,
      "metadata": {
        "id": "6CpeSWsnsQac"
      },
      "outputs": [],
      "source": [
        "a = [1,2]\n"
      ]
    },
    {
      "cell_type": "code",
      "execution_count": null,
      "metadata": {
        "id": "ud5AR81osQad"
      },
      "outputs": [],
      "source": [
        "b = a.copy()"
      ]
    },
    {
      "cell_type": "code",
      "execution_count": null,
      "metadata": {
        "id": "FYXoFdfLsQae"
      },
      "outputs": [],
      "source": [
        "b.append(3)"
      ]
    },
    {
      "cell_type": "code",
      "execution_count": null,
      "metadata": {
        "id": "D08Z608CsQag",
        "outputId": "a5084861-be5b-42dc-c45a-d04231885d0f"
      },
      "outputs": [
        {
          "name": "stdout",
          "output_type": "stream",
          "text": [
            "[1, 2]\n"
          ]
        }
      ],
      "source": [
        "print(a)"
      ]
    },
    {
      "cell_type": "code",
      "execution_count": null,
      "metadata": {
        "id": "9TNSK3DRsQai",
        "outputId": "e5e3c554-6b58-4091-bdea-7f4cbf4b0af0"
      },
      "outputs": [
        {
          "name": "stdout",
          "output_type": "stream",
          "text": [
            "[1, 2, 3]\n"
          ]
        }
      ],
      "source": [
        "print(b)"
      ]
    },
    {
      "cell_type": "code",
      "execution_count": null,
      "metadata": {
        "id": "uIwpqVy3sQaj"
      },
      "outputs": [],
      "source": [
        "b.append(4)"
      ]
    },
    {
      "cell_type": "code",
      "execution_count": null,
      "metadata": {
        "id": "-vYTe5HZsQak",
        "outputId": "a4522e17-1117-49b6-e0c9-b9944a2fd5a9"
      },
      "outputs": [
        {
          "name": "stdout",
          "output_type": "stream",
          "text": [
            "[1, 2, 3]\n"
          ]
        }
      ],
      "source": [
        "print(a)"
      ]
    },
    {
      "cell_type": "code",
      "execution_count": null,
      "metadata": {
        "id": "1gx-bg2zsQal",
        "outputId": "9ca4fbb5-94e1-4490-e282-5b7bf44d28f9"
      },
      "outputs": [
        {
          "name": "stdout",
          "output_type": "stream",
          "text": [
            "[1, 2, 3, 4]\n"
          ]
        }
      ],
      "source": [
        "print(b)"
      ]
    },
    {
      "cell_type": "code",
      "execution_count": null,
      "metadata": {
        "id": "cy7ojY8SsQan"
      },
      "outputs": [],
      "source": [
        "x = 7"
      ]
    },
    {
      "cell_type": "code",
      "execution_count": null,
      "metadata": {
        "id": "AO3CtuwpsQao",
        "outputId": "a6303cba-1c73-44e2-91f7-753c82b02e91"
      },
      "outputs": [
        {
          "data": {
            "text/plain": [
              "2"
            ]
          },
          "execution_count": 34,
          "metadata": {},
          "output_type": "execute_result"
        }
      ],
      "source": [
        "7 & 7"
      ]
    },
    {
      "cell_type": "code",
      "execution_count": null,
      "metadata": {
        "id": "Xs1jrYWwsQaq",
        "outputId": "e728566c-188e-425b-97b0-63119a3ad706"
      },
      "outputs": [
        {
          "name": "stdout",
          "output_type": "stream",
          "text": [
            "2\n"
          ]
        }
      ],
      "source": [
        "print(x)"
      ]
    },
    {
      "cell_type": "code",
      "execution_count": null,
      "metadata": {
        "id": "VzYQgunGsQar"
      },
      "outputs": [],
      "source": [
        "a = [1, 2]"
      ]
    },
    {
      "cell_type": "code",
      "execution_count": null,
      "metadata": {
        "id": "bk7GXmOYsQas"
      },
      "outputs": [],
      "source": [
        "b = [\"Uno\", \"Dos\"]"
      ]
    },
    {
      "cell_type": "code",
      "execution_count": null,
      "metadata": {
        "id": "JtVRtiHFsQat"
      },
      "outputs": [],
      "source": [
        "c = zip(a, b)"
      ]
    },
    {
      "cell_type": "code",
      "execution_count": null,
      "metadata": {
        "id": "MsN7WuaMsQat",
        "outputId": "55f6f55f-f9c5-455e-a286-48d0c6880055"
      },
      "outputs": [
        {
          "data": {
            "text/plain": [
              "zip"
            ]
          },
          "execution_count": 39,
          "metadata": {},
          "output_type": "execute_result"
        }
      ],
      "source": [
        "type(c)"
      ]
    },
    {
      "cell_type": "code",
      "execution_count": null,
      "metadata": {
        "id": "BEtBzH7psQau",
        "outputId": "9b2e26a5-5a6f-4a6e-e3b4-6cf8ad8d7919"
      },
      "outputs": [
        {
          "data": {
            "text/plain": [
              "[(1, 'Uno'), (2, 'Dos')]"
            ]
          },
          "execution_count": 40,
          "metadata": {},
          "output_type": "execute_result"
        }
      ],
      "source": [
        "list(c)"
      ]
    },
    {
      "cell_type": "code",
      "execution_count": null,
      "metadata": {
        "id": "alCOWNh4sQav"
      },
      "outputs": [],
      "source": [
        "frase = \"El perro de san roque no tiene rabo\""
      ]
    },
    {
      "cell_type": "code",
      "execution_count": null,
      "metadata": {
        "id": "blYsJzL8sQaw",
        "outputId": "554f2ce1-e890-400d-eb03-401ed9ca7488"
      },
      "outputs": [
        {
          "name": "stdout",
          "output_type": "stream",
          "text": [
            "['r', 'r', 'r', 'r']\n"
          ]
        }
      ],
      "source": [
        "errores = [i for i in frase if i == 'r']\n",
        "print(errores)"
      ]
    },
    {
      "cell_type": "code",
      "execution_count": null,
      "metadata": {
        "id": "6DV4-1yFsQax",
        "outputId": "5a1635f9-86b1-4630-c039-a219502d6185"
      },
      "outputs": [
        {
          "name": "stdout",
          "output_type": "stream",
          "text": [
            "[0, 1, 1]\n",
            "[0, 1, 1, 2]\n",
            "[0, 1, 1, 2, 3]\n",
            "[0, 1, 1, 2, 3, 5]\n",
            "[0, 1, 1, 2, 3, 5, 8]\n",
            "[0, 1, 1, 2, 3, 5, 8, 13]\n",
            "[0, 1, 1, 2, 3, 5, 8, 13, 21]\n",
            "[0, 1, 1, 2, 3, 5, 8, 13, 21, 34]\n",
            "[0, 1, 1, 2, 3, 5, 8, 13, 21, 34, 55]\n",
            "[0, 1, 1, 2, 3, 5, 8, 13, 21, 34, 55, 89]\n",
            "[0, 1, 1, 2, 3, 5, 8, 13, 21, 34, 55, 89, 144]\n",
            "[0, 1, 1, 2, 3, 5, 8, 13, 21, 34, 55, 89, 144, 233]\n",
            "[0, 1, 1, 2, 3, 5, 8, 13, 21, 34, 55, 89, 144, 233, 377]\n",
            "[0, 1, 1, 2, 3, 5, 8, 13, 21, 34, 55, 89, 144, 233, 377, 610]\n",
            "[0, 1, 1, 2, 3, 5, 8, 13, 21, 34, 55, 89, 144, 233, 377, 610, 987]\n",
            "[0, 1, 1, 2, 3, 5, 8, 13, 21, 34, 55, 89, 144, 233, 377, 610, 987, 1597]\n",
            "[0, 1, 1, 2, 3, 5, 8, 13, 21, 34, 55, 89, 144, 233, 377, 610, 987, 1597, 2584]\n",
            "[0, 1, 1, 2, 3, 5, 8, 13, 21, 34, 55, 89, 144, 233, 377, 610, 987, 1597, 2584, 4181]\n",
            "[0, 1, 1, 2, 3, 5, 8, 13, 21, 34, 55, 89, 144, 233, 377, 610, 987, 1597, 2584, 4181, 6765]\n",
            "[0, 1, 1, 2, 3, 5, 8, 13, 21, 34, 55, 89, 144, 233, 377, 610, 987, 1597, 2584, 4181, 6765, 10946]\n",
            "[0, 1, 1, 2, 3, 5, 8, 13, 21, 34, 55, 89, 144, 233, 377, 610, 987, 1597, 2584, 4181, 6765, 10946, 17711]\n",
            "[0, 1, 1, 2, 3, 5, 8, 13, 21, 34, 55, 89, 144, 233, 377, 610, 987, 1597, 2584, 4181, 6765, 10946, 17711, 28657]\n",
            "[0, 1, 1, 2, 3, 5, 8, 13, 21, 34, 55, 89, 144, 233, 377, 610, 987, 1597, 2584, 4181, 6765, 10946, 17711, 28657, 46368]\n",
            "[0, 1, 1, 2, 3, 5, 8, 13, 21, 34, 55, 89, 144, 233, 377, 610, 987, 1597, 2584, 4181, 6765, 10946, 17711, 28657, 46368, 75025]\n",
            "[0, 1, 1, 2, 3, 5, 8, 13, 21, 34, 55, 89, 144, 233, 377, 610, 987, 1597, 2584, 4181, 6765, 10946, 17711, 28657, 46368, 75025, 121393]\n",
            "[0, 1, 1, 2, 3, 5, 8, 13, 21, 34, 55, 89, 144, 233, 377, 610, 987, 1597, 2584, 4181, 6765, 10946, 17711, 28657, 46368, 75025, 121393, 196418]\n",
            "[0, 1, 1, 2, 3, 5, 8, 13, 21, 34, 55, 89, 144, 233, 377, 610, 987, 1597, 2584, 4181, 6765, 10946, 17711, 28657, 46368, 75025, 121393, 196418, 317811]\n",
            "[0, 1, 1, 2, 3, 5, 8, 13, 21, 34, 55, 89, 144, 233, 377, 610, 987, 1597, 2584, 4181, 6765, 10946, 17711, 28657, 46368, 75025, 121393, 196418, 317811, 514229]\n",
            "[0, 1, 1, 2, 3, 5, 8, 13, 21, 34, 55, 89, 144, 233, 377, 610, 987, 1597, 2584, 4181, 6765, 10946, 17711, 28657, 46368, 75025, 121393, 196418, 317811, 514229, 832040]\n",
            "[0, 1, 1, 2, 3, 5, 8, 13, 21, 34, 55, 89, 144, 233, 377, 610, 987, 1597, 2584, 4181, 6765, 10946, 17711, 28657, 46368, 75025, 121393, 196418, 317811, 514229, 832040, 1346269]\n",
            "[0, 1, 1, 2, 3, 5, 8, 13, 21, 34, 55, 89, 144, 233, 377, 610, 987, 1597, 2584, 4181, 6765, 10946, 17711, 28657, 46368, 75025, 121393, 196418, 317811, 514229, 832040, 1346269, 2178309]\n",
            "[0, 1, 1, 2, 3, 5, 8, 13, 21, 34, 55, 89, 144, 233, 377, 610, 987, 1597, 2584, 4181, 6765, 10946, 17711, 28657, 46368, 75025, 121393, 196418, 317811, 514229, 832040, 1346269, 2178309, 3524578]\n",
            "[0, 1, 1, 2, 3, 5, 8, 13, 21, 34, 55, 89, 144, 233, 377, 610, 987, 1597, 2584, 4181, 6765, 10946, 17711, 28657, 46368, 75025, 121393, 196418, 317811, 514229, 832040, 1346269, 2178309, 3524578, 5702887]\n",
            "[0, 1, 1, 2, 3, 5, 8, 13, 21, 34, 55, 89, 144, 233, 377, 610, 987, 1597, 2584, 4181, 6765, 10946, 17711, 28657, 46368, 75025, 121393, 196418, 317811, 514229, 832040, 1346269, 2178309, 3524578, 5702887, 9227465]\n",
            "[0, 1, 1, 2, 3, 5, 8, 13, 21, 34, 55, 89, 144, 233, 377, 610, 987, 1597, 2584, 4181, 6765, 10946, 17711, 28657, 46368, 75025, 121393, 196418, 317811, 514229, 832040, 1346269, 2178309, 3524578, 5702887, 9227465, 14930352]\n",
            "[0, 1, 1, 2, 3, 5, 8, 13, 21, 34, 55, 89, 144, 233, 377, 610, 987, 1597, 2584, 4181, 6765, 10946, 17711, 28657, 46368, 75025, 121393, 196418, 317811, 514229, 832040, 1346269, 2178309, 3524578, 5702887, 9227465, 14930352, 24157817]\n",
            "[0, 1, 1, 2, 3, 5, 8, 13, 21, 34, 55, 89, 144, 233, 377, 610, 987, 1597, 2584, 4181, 6765, 10946, 17711, 28657, 46368, 75025, 121393, 196418, 317811, 514229, 832040, 1346269, 2178309, 3524578, 5702887, 9227465, 14930352, 24157817, 39088169]\n",
            "[0, 1, 1, 2, 3, 5, 8, 13, 21, 34, 55, 89, 144, 233, 377, 610, 987, 1597, 2584, 4181, 6765, 10946, 17711, 28657, 46368, 75025, 121393, 196418, 317811, 514229, 832040, 1346269, 2178309, 3524578, 5702887, 9227465, 14930352, 24157817, 39088169, 63245986]\n"
          ]
        }
      ],
      "source": [
        "n = 40 \n",
        "sequence = [0,1] \n",
        "for i in range(2,n): \n",
        "    sequence.append(sequence[i-1]+sequence[i-2]) \n",
        "    print (sequence)"
      ]
    }
  ],
  "metadata": {
    "kernelspec": {
      "display_name": "Python 3 (ipykernel)",
      "language": "python",
      "name": "python3"
    },
    "language_info": {
      "codemirror_mode": {
        "name": "ipython",
        "version": 3
      },
      "file_extension": ".py",
      "mimetype": "text/x-python",
      "name": "python",
      "nbconvert_exporter": "python",
      "pygments_lexer": "ipython3",
      "version": "3.9.7"
    },
    "colab": {
      "provenance": []
    }
  },
  "nbformat": 4,
  "nbformat_minor": 0
}